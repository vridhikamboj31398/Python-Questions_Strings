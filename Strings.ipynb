{
  "nbformat": 4,
  "nbformat_minor": 0,
  "metadata": {
    "colab": {
      "provenance": []
    },
    "kernelspec": {
      "name": "python3",
      "display_name": "Python 3"
    },
    "language_info": {
      "name": "python"
    }
  },
  "cells": [
    {
      "cell_type": "markdown",
      "source": [
        "Python String Practise\n"
      ],
      "metadata": {
        "id": "2PBK2Xjo9T3y"
      }
    },
    {
      "cell_type": "markdown",
      "source": [
        "String Concatenation: Write a Python program that takes two strings as input and concatenates them with a space in between."
      ],
      "metadata": {
        "id": "5oLjoTNW9brC"
      }
    },
    {
      "cell_type": "code",
      "source": [
        "s1=input()\n",
        "s2=input()\n",
        "s3= s1 + ' ' + s2\n",
        "print(s3)"
      ],
      "metadata": {
        "colab": {
          "base_uri": "https://localhost:8080/"
        },
        "id": "VNNhy77c9YzK",
        "outputId": "d97974e4-7d15-487f-9bcf-835437003b7d"
      },
      "execution_count": null,
      "outputs": [
        {
          "output_type": "stream",
          "name": "stdout",
          "text": [
            "vridhi\n",
            "kamboj\n",
            "vridhi kamboj\n"
          ]
        }
      ]
    },
    {
      "cell_type": "markdown",
      "source": [
        "String Length: Write a function that takes a string as input and returns its length without using the built-in len() function."
      ],
      "metadata": {
        "id": "_4UX-RAA-FYu"
      }
    },
    {
      "cell_type": "code",
      "source": [
        "def func(s1):\n",
        "  count=0\n",
        "  for i in s1:\n",
        "    if i !=' ':\n",
        "      count+=1\n",
        "  return count\n"
      ],
      "metadata": {
        "id": "jbHbIhAi-Jss"
      },
      "execution_count": null,
      "outputs": []
    },
    {
      "cell_type": "code",
      "source": [
        "func('vridhi kamboj')"
      ],
      "metadata": {
        "colab": {
          "base_uri": "https://localhost:8080/"
        },
        "id": "dfxniH2d-ZN9",
        "outputId": "20f90415-0b8e-4c3f-9672-37c560e0f270"
      },
      "execution_count": null,
      "outputs": [
        {
          "output_type": "execute_result",
          "data": {
            "text/plain": [
              "12"
            ]
          },
          "metadata": {},
          "execution_count": 18
        }
      ]
    },
    {
      "cell_type": "markdown",
      "source": [
        "String Slicing: Given a string, write a program to print the first three characters and the last three characters of the string."
      ],
      "metadata": {
        "id": "kFzOiBlD_WM6"
      }
    },
    {
      "cell_type": "code",
      "source": [
        "s1=input()\n",
        "print(s1[:3] + ' ' + s1[-3:])"
      ],
      "metadata": {
        "colab": {
          "base_uri": "https://localhost:8080/"
        },
        "id": "TFbfxHkL-azd",
        "outputId": "1bd8326f-2931-43b9-c19d-7fd3406d652f"
      },
      "execution_count": null,
      "outputs": [
        {
          "output_type": "stream",
          "name": "stdout",
          "text": [
            "vridhi\n",
            "vri dhi\n"
          ]
        }
      ]
    },
    {
      "cell_type": "markdown",
      "source": [
        "String Reversal: Write a function that takes a string and returns it reversed.\n"
      ],
      "metadata": {
        "id": "4FxpRob7BGC2"
      }
    },
    {
      "cell_type": "code",
      "source": [
        "def func_1(s1):\n",
        "    return s1[::-1]"
      ],
      "metadata": {
        "id": "sIaZdq_S_a7B"
      },
      "execution_count": null,
      "outputs": []
    },
    {
      "cell_type": "code",
      "source": [
        "func_1('vridhi')"
      ],
      "metadata": {
        "colab": {
          "base_uri": "https://localhost:8080/",
          "height": 35
        },
        "id": "GmxXQlJaBkP7",
        "outputId": "bb53c183-4a7d-4ef3-92b0-e436a79635d9"
      },
      "execution_count": null,
      "outputs": [
        {
          "output_type": "execute_result",
          "data": {
            "text/plain": [
              "'ihdirv'"
            ],
            "application/vnd.google.colaboratory.intrinsic+json": {
              "type": "string"
            }
          },
          "metadata": {},
          "execution_count": 54
        }
      ]
    },
    {
      "cell_type": "markdown",
      "source": [
        "Count Vowels: Write a function that counts the number of vowels in a given string."
      ],
      "metadata": {
        "id": "-UAlADRrDVsl"
      }
    },
    {
      "cell_type": "code",
      "source": [
        "def func_2(s2):\n",
        "    count = 0\n",
        "    vowels_found = set()\n",
        "    for i in s2.lower():\n",
        "        if i in ['a', 'e', 'i', 'o', 'u']:\n",
        "            count += 1\n",
        "            vowels_found.add(i)\n",
        "    return count, vowels_found\n"
      ],
      "metadata": {
        "id": "2--gRF5EBvi6"
      },
      "execution_count": null,
      "outputs": []
    },
    {
      "cell_type": "code",
      "source": [
        "input_string = \"aeiou\"\n",
        "vowel_count, vowels = func_2(input_string)\n",
        "print(f\"Number of vowels: {vowel_count}\")\n",
        "print(f\"Vowels found: {sorted(vowels)}\")"
      ],
      "metadata": {
        "colab": {
          "base_uri": "https://localhost:8080/"
        },
        "id": "Usw1ubq7DmU9",
        "outputId": "89df31a9-b044-4a54-cdf6-8114a402e6f6"
      },
      "execution_count": null,
      "outputs": [
        {
          "output_type": "stream",
          "name": "stdout",
          "text": [
            "Number of vowels: 5\n",
            "Vowels found: ['a', 'e', 'i', 'o', 'u']\n"
          ]
        }
      ]
    },
    {
      "cell_type": "markdown",
      "source": [
        "Intermediate Level Questions"
      ],
      "metadata": {
        "id": "EdzOfPFuE6xs"
      }
    },
    {
      "cell_type": "markdown",
      "source": [
        "Palindrome Check: Write a function that checks if a given string is a palindrome (reads the same forwards and backwards)."
      ],
      "metadata": {
        "id": "Dj6HORNCE-RW"
      }
    },
    {
      "cell_type": "code",
      "source": [
        "def palindrome(s3):\n",
        "    if s3==s3[::-1]:\n",
        "      print('palindrome')\n",
        "    else:\n",
        "      print('not a palindrome')"
      ],
      "metadata": {
        "id": "iaJxHO2gDo4r"
      },
      "execution_count": null,
      "outputs": []
    },
    {
      "cell_type": "code",
      "source": [
        "palindrome('radar')"
      ],
      "metadata": {
        "colab": {
          "base_uri": "https://localhost:8080/"
        },
        "id": "QMYL64qNFWRW",
        "outputId": "507d3948-365a-4997-a975-0ba2c31c6b2d"
      },
      "execution_count": null,
      "outputs": [
        {
          "output_type": "stream",
          "name": "stdout",
          "text": [
            "palindrome\n"
          ]
        }
      ]
    },
    {
      "cell_type": "markdown",
      "source": [
        "String Formatting: Given a name and age, write a program that prints \"My name is {name} and I am {age} years old.\" using string formatting."
      ],
      "metadata": {
        "id": "oZCfflRrGQ5a"
      }
    },
    {
      "cell_type": "code",
      "source": [
        "name=input('Enter your name')\n",
        "age=int(input('Enter your age'))\n",
        "\n",
        "# Using f string function\n",
        "my_info=f' My name is {name} and I am {age} years old.'\n",
        "# print(my_info)\n",
        "\n",
        "# using format\n",
        "my_info1='My name is {name} and I am {age} years old'.format(name=name,age=age)\n",
        "print(my_info1)"
      ],
      "metadata": {
        "colab": {
          "base_uri": "https://localhost:8080/"
        },
        "id": "e1yjdxZLGSNx",
        "outputId": "926272f5-bf78-4741-e3ce-d2fd588f1e03"
      },
      "execution_count": null,
      "outputs": [
        {
          "output_type": "stream",
          "name": "stdout",
          "text": [
            "Enter your namevridhi\n",
            "Enter your age27\n",
            "My name is vridhi and I am 27 years old\n"
          ]
        }
      ]
    },
    {
      "cell_type": "markdown",
      "source": [
        "Remove Whitespace: Write a function that removes all leading and trailing whitespace from a string."
      ],
      "metadata": {
        "id": "G0ZRuE00HLhV"
      }
    },
    {
      "cell_type": "code",
      "source": [
        "def func_4(s4):\n",
        "  return s4.strip()"
      ],
      "metadata": {
        "id": "HVUdh7F0HM8c"
      },
      "execution_count": null,
      "outputs": []
    },
    {
      "cell_type": "code",
      "source": [
        "func_4(\"         vridhikamboj         \")"
      ],
      "metadata": {
        "colab": {
          "base_uri": "https://localhost:8080/",
          "height": 35
        },
        "id": "d9Ng_tGOHlYr",
        "outputId": "e3e524d7-441f-43c3-d9a2-a72c2b9fb7d2"
      },
      "execution_count": null,
      "outputs": [
        {
          "output_type": "execute_result",
          "data": {
            "text/plain": [
              "'vridhikamboj'"
            ],
            "application/vnd.google.colaboratory.intrinsic+json": {
              "type": "string"
            }
          },
          "metadata": {},
          "execution_count": 106
        }
      ]
    },
    {
      "cell_type": "markdown",
      "source": [
        "Character Frequency: Write a program that counts the frequency of each character in a string and returns a dictionary."
      ],
      "metadata": {
        "id": "Byo0J0VpILNH"
      }
    },
    {
      "cell_type": "code",
      "source": [
        "def func_5(s5):\n",
        "  dict={}\n",
        "  for i in s5:\n",
        "    if i in dict:\n",
        "      dict[i]+=1\n",
        "    else:\n",
        "      dict[i]=1\n",
        "  return dict"
      ],
      "metadata": {
        "id": "4vPedGcrHoAG"
      },
      "execution_count": null,
      "outputs": []
    },
    {
      "cell_type": "code",
      "source": [
        "func_5('vridhi')"
      ],
      "metadata": {
        "colab": {
          "base_uri": "https://localhost:8080/"
        },
        "id": "gtDYlzLaTnT6",
        "outputId": "41273c75-0256-43d8-929f-c30272b3adc2"
      },
      "execution_count": null,
      "outputs": [
        {
          "output_type": "execute_result",
          "data": {
            "text/plain": [
              "{'v': 1, 'r': 1, 'i': 2, 'd': 1, 'h': 1}"
            ]
          },
          "metadata": {},
          "execution_count": 110
        }
      ]
    },
    {
      "cell_type": "markdown",
      "source": [
        "Substring Search: Write a function that checks if a substring exists within a given string and returns the starting index if it does."
      ],
      "metadata": {
        "id": "oXe13RgUUCc9"
      }
    },
    {
      "cell_type": "code",
      "source": [
        "def func_6(s6,s7):\n",
        "  if s7 in s6:\n",
        "    return s6.index(s7)\n",
        "  else:\n",
        "    return -1\n"
      ],
      "metadata": {
        "id": "HFdfJatwTpXz"
      },
      "execution_count": null,
      "outputs": []
    },
    {
      "cell_type": "code",
      "source": [
        "func_6('vridhi','dhi')"
      ],
      "metadata": {
        "colab": {
          "base_uri": "https://localhost:8080/"
        },
        "id": "jr3KWnHiUPtW",
        "outputId": "942bf881-7477-4c44-8770-142b8f324111"
      },
      "execution_count": null,
      "outputs": [
        {
          "output_type": "execute_result",
          "data": {
            "text/plain": [
              "3"
            ]
          },
          "metadata": {},
          "execution_count": 113
        }
      ]
    },
    {
      "cell_type": "markdown",
      "source": [
        "Advanced Level Questions"
      ],
      "metadata": {
        "id": "3bZWnuwXqDZO"
      }
    },
    {
      "cell_type": "markdown",
      "source": [
        " Implement a function that compresses a string by replacing consecutive duplicate characters with the character followed by the count (e.g., \"aaabb\" becomes \"a3b2\").bold text"
      ],
      "metadata": {
        "id": "fVE1sv-75fOI"
      }
    },
    {
      "cell_type": "code",
      "source": [
        "def func(s1):\n",
        "    if not s1:\n",
        "        return \"\"\n",
        "\n",
        "    compressed = []\n",
        "    count = 1\n",
        "    prev_char = s1[0]\n",
        "\n",
        "    for i in range(1, len(s1)):\n",
        "        if s1[i] == prev_char:\n",
        "            count += 1\n",
        "        else:\n",
        "\n",
        "            compressed.append(prev_char)\n",
        "            compressed.append(str(count))\n",
        "            prev_char = s1[i]\n",
        "            count = 1\n",
        "\n",
        "\n",
        "    compressed.append(prev_char)\n",
        "    compressed.append(str(count))\n",
        "\n",
        "    return \"\".join(compressed)  # Join the list into a string\n"
      ],
      "metadata": {
        "id": "cej1tmee5eAo"
      },
      "execution_count": 26,
      "outputs": []
    },
    {
      "cell_type": "code",
      "source": [
        "func('aaabb')"
      ],
      "metadata": {
        "id": "I4HMsLyntTZ1",
        "colab": {
          "base_uri": "https://localhost:8080/",
          "height": 35
        },
        "outputId": "59d54cb2-3491-4a25-d356-375eea9e9df1"
      },
      "execution_count": 27,
      "outputs": [
        {
          "output_type": "execute_result",
          "data": {
            "text/plain": [
              "'a3b2'"
            ],
            "application/vnd.google.colaboratory.intrinsic+json": {
              "type": "string"
            }
          },
          "metadata": {},
          "execution_count": 27
        }
      ]
    },
    {
      "cell_type": "code",
      "source": [],
      "metadata": {
        "id": "DQKd1vve6zyj"
      },
      "execution_count": null,
      "outputs": []
    }
  ]
}