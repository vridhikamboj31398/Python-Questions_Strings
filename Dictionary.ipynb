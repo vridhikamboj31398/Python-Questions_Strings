{
  "nbformat": 4,
  "nbformat_minor": 0,
  "metadata": {
    "colab": {
      "provenance": [],
      "authorship_tag": "ABX9TyOdDWZBKLD7NCbjqjs2V0GH",
      "include_colab_link": true
    },
    "kernelspec": {
      "name": "python3",
      "display_name": "Python 3"
    },
    "language_info": {
      "name": "python"
    }
  },
  "cells": [
    {
      "cell_type": "markdown",
      "metadata": {
        "id": "view-in-github",
        "colab_type": "text"
      },
      "source": [
        "<a href=\"https://colab.research.google.com/github/vridhikamboj31398/Python-Questions_Strings/blob/main/Dictionary.ipynb\" target=\"_parent\"><img src=\"https://colab.research.google.com/assets/colab-badge.svg\" alt=\"Open In Colab\"/></a>"
      ]
    },
    {
      "cell_type": "markdown",
      "source": [
        "Merge Two Dictionaries: Write a function that takes two dictionaries and merges them into one. If there are duplicate keys, sum their values."
      ],
      "metadata": {
        "id": "ITYwT2xzKMzr"
      }
    },
    {
      "cell_type": "code",
      "source": [
        "def mer_dic(dict1,dict2):\n",
        "  merged_dict=dict1.copy()\n",
        "  for key,value in dict2.items():\n",
        "    if key in merged_dict:\n",
        "      merged_dict[key] += value\n",
        "  else:\n",
        "    merged_dict[key] = value\n",
        "  return merged_dict"
      ],
      "metadata": {
        "id": "9MVuvUgNKOwO"
      },
      "execution_count": 2,
      "outputs": []
    },
    {
      "cell_type": "code",
      "source": [
        "dict1={'A':1,'B':2}\n",
        "dict2={'B':3,'C':4}\n",
        "mer_dic(dict1,dict2)"
      ],
      "metadata": {
        "colab": {
          "base_uri": "https://localhost:8080/"
        },
        "id": "aArETkALL8Ap",
        "outputId": "4deb953c-4c2b-40e2-c1ef-a6a858053615"
      },
      "execution_count": 3,
      "outputs": [
        {
          "output_type": "execute_result",
          "data": {
            "text/plain": [
              "{'A': 1, 'B': 5, 'C': 4}"
            ]
          },
          "metadata": {},
          "execution_count": 3
        }
      ]
    },
    {
      "cell_type": "markdown",
      "source": [
        "Count Character Frequency: Write a function that takes a string and returns a dictionary with the frequency of each character in the string."
      ],
      "metadata": {
        "id": "8foIdZpyMa3g"
      }
    },
    {
      "cell_type": "code",
      "source": [
        "def input_str(input_string):\n",
        "  dict={}\n",
        "  count=0\n",
        "  for i in input_string:\n",
        "    if i in dict:\n",
        "      dict[i]+=1\n",
        "    else:\n",
        "      dict[i]=1\n",
        "  return dict"
      ],
      "metadata": {
        "id": "V3y3M-ztMVh2"
      },
      "execution_count": 7,
      "outputs": []
    },
    {
      "cell_type": "code",
      "source": [
        "input_string=\"vridhi\"\n",
        "input_str(input_string)"
      ],
      "metadata": {
        "colab": {
          "base_uri": "https://localhost:8080/"
        },
        "id": "s0Kc8vZINT96",
        "outputId": "3004df7a-2b08-4bf5-bffc-8693e8c0a224"
      },
      "execution_count": 8,
      "outputs": [
        {
          "output_type": "execute_result",
          "data": {
            "text/plain": [
              "{'v': 1, 'r': 1, 'i': 2, 'd': 1, 'h': 1}"
            ]
          },
          "metadata": {},
          "execution_count": 8
        }
      ]
    },
    {
      "cell_type": "markdown",
      "source": [
        "Filter Dictionary by Value: Write a function that takes a dictionary and a threshold value, and returns a new dictionary containing only the items where the value is greater than the threshold.."
      ],
      "metadata": {
        "id": "d7bIMVsbNoxv"
      }
    },
    {
      "cell_type": "code",
      "source": [
        "def dict_swap(input_dict,threshold):\n",
        "  new_dict={}\n",
        "  for key,value in input_dict.items():\n",
        "    if value>threshold:\n",
        "      new_dict[key]=value\n",
        "  return new_dict\n"
      ],
      "metadata": {
        "id": "6I76egJ1NoDA"
      },
      "execution_count": 9,
      "outputs": []
    },
    {
      "cell_type": "code",
      "source": [
        "input_dict={'a':6,'b':10}\n",
        "threshold=5\n",
        "dict_swap(input_dict,threshold)"
      ],
      "metadata": {
        "colab": {
          "base_uri": "https://localhost:8080/"
        },
        "id": "4RXUwhwVNZjh",
        "outputId": "a4a62933-c09b-406f-9f71-dc82df9f514b"
      },
      "execution_count": 11,
      "outputs": [
        {
          "output_type": "execute_result",
          "data": {
            "text/plain": [
              "{'a': 6, 'b': 10}"
            ]
          },
          "metadata": {},
          "execution_count": 11
        }
      ]
    },
    {
      "cell_type": "markdown",
      "source": [
        "Find the Key with Maximum Value: Write a function that takes a dictionary and returns the key that has the maximum value. If there are multiple keys with the same maximum value, return any one of them"
      ],
      "metadata": {
        "id": "zRoD54LWOjQY"
      }
    },
    {
      "cell_type": "code",
      "source": [
        "def fun_max(input_dict):\n",
        "   return max(input_dict,key=input_dict.get)"
      ],
      "metadata": {
        "id": "790_JoUlObSB"
      },
      "execution_count": 12,
      "outputs": []
    },
    {
      "cell_type": "code",
      "source": [
        "input_dict={'a':1,'b':10,'c':20}\n",
        "fun_max(input_dict)"
      ],
      "metadata": {
        "colab": {
          "base_uri": "https://localhost:8080/",
          "height": 35
        },
        "id": "oASv5U3pVzNw",
        "outputId": "8e0cc007-ef71-4daa-9bb0-5285268aadf8"
      },
      "execution_count": 14,
      "outputs": [
        {
          "output_type": "execute_result",
          "data": {
            "text/plain": [
              "'c'"
            ],
            "application/vnd.google.colaboratory.intrinsic+json": {
              "type": "string"
            }
          },
          "metadata": {},
          "execution_count": 14
        }
      ]
    },
    {
      "cell_type": "markdown",
      "source": [
        "Sort Dictionary by Value: Write a function that takes a dictionary and returns a list of tuples sorted by the dictionary's values in descending order.\n",
        "\n"
      ],
      "metadata": {
        "id": "H58iVEQZWNdg"
      }
    },
    {
      "cell_type": "code",
      "source": [
        "def func_tup(input_dict):\n",
        "  tuples_list=()\n",
        "  for values in input_dict.values():\n",
        "    tuples_list=tuple(sorted(input_dict.items(),reverse=True))\n",
        "  return tuples_list"
      ],
      "metadata": {
        "id": "0bqystUBV7eq"
      },
      "execution_count": 20,
      "outputs": []
    },
    {
      "cell_type": "code",
      "source": [
        "input_dict={'a':1,'b':10,'v':20}\n",
        "func_tup(input_dict)"
      ],
      "metadata": {
        "colab": {
          "base_uri": "https://localhost:8080/"
        },
        "id": "BIpUZLV-W85d",
        "outputId": "c8c2534f-009c-43f9-9d33-2902e6f87ecb"
      },
      "execution_count": 21,
      "outputs": [
        {
          "output_type": "execute_result",
          "data": {
            "text/plain": [
              "(('v', 20), ('b', 10), ('a', 1))"
            ]
          },
          "metadata": {},
          "execution_count": 21
        }
      ]
    },
    {
      "cell_type": "markdown",
      "source": [
        "Count Words in a Sentence: Write a function that takes a sentence and returns a dictionary with each word as the key and its frequency as the value."
      ],
      "metadata": {
        "id": "_wUFSbhwXZrU"
      }
    },
    {
      "cell_type": "code",
      "source": [
        "def func(input_string):\n",
        "  count=0\n",
        "  dict={}\n",
        "  for word in input_string:\n",
        "     if word in dict:\n",
        "            dict[word] += 1\n",
        "  else:\n",
        "      dict[word] = 1\n",
        "\n",
        "  return dict"
      ],
      "metadata": {
        "id": "PwDxGe0pW_mc"
      },
      "execution_count": 26,
      "outputs": []
    },
    {
      "cell_type": "code",
      "source": [
        "input_dict=\"vridhi\"\n",
        "func(input_dict)\n"
      ],
      "metadata": {
        "colab": {
          "base_uri": "https://localhost:8080/"
        },
        "id": "024PNQXhY5-0",
        "outputId": "df932c88-3a4e-45a7-d7d2-ad56e2bae2a1"
      },
      "execution_count": 27,
      "outputs": [
        {
          "output_type": "execute_result",
          "data": {
            "text/plain": [
              "{'i': 1}"
            ]
          },
          "metadata": {},
          "execution_count": 27
        }
      ]
    },
    {
      "cell_type": "code",
      "source": [],
      "metadata": {
        "id": "jm64DwjwZI5v"
      },
      "execution_count": null,
      "outputs": []
    }
  ]
}