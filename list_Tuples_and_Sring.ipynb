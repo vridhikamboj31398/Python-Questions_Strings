{
  "nbformat": 4,
  "nbformat_minor": 0,
  "metadata": {
    "colab": {
      "provenance": [],
      "authorship_tag": "ABX9TyNKAkf9jWUBKeos7ryfaO28",
      "include_colab_link": true
    },
    "kernelspec": {
      "name": "python3",
      "display_name": "Python 3"
    },
    "language_info": {
      "name": "python"
    }
  },
  "cells": [
    {
      "cell_type": "markdown",
      "metadata": {
        "id": "view-in-github",
        "colab_type": "text"
      },
      "source": [
        "<a href=\"https://colab.research.google.com/github/vridhikamboj31398/Python-Questions_Strings/blob/main/list_Tuples_and_Sring.ipynb\" target=\"_parent\"><img src=\"https://colab.research.google.com/assets/colab-badge.svg\" alt=\"Open In Colab\"/></a>"
      ]
    },
    {
      "cell_type": "markdown",
      "source": [
        "List Reversal: Write a function that takes a list as input and returns a new list that is the reverse of the input list."
      ],
      "metadata": {
        "id": "kDqy3JdeFf75"
      }
    },
    {
      "cell_type": "code",
      "source": [
        "def reversal(input_list):\n",
        "  return list(reversed(input_list))"
      ],
      "metadata": {
        "id": "sBtvq0t_FiHq"
      },
      "execution_count": 1,
      "outputs": []
    },
    {
      "cell_type": "code",
      "source": [
        "reversal([1,23,455])"
      ],
      "metadata": {
        "colab": {
          "base_uri": "https://localhost:8080/"
        },
        "id": "A2j6xjqKGN-j",
        "outputId": "b2b4ffef-8ea7-483f-a722-665a1fa8b417"
      },
      "execution_count": 2,
      "outputs": [
        {
          "output_type": "execute_result",
          "data": {
            "text/plain": [
              "[455, 23, 1]"
            ]
          },
          "metadata": {},
          "execution_count": 2
        }
      ]
    },
    {
      "cell_type": "markdown",
      "source": [
        "List Comprehension: Create a list of squares of even numbers from 1 to 20 using list comprehension."
      ],
      "metadata": {
        "id": "ur6W6PI_GXHQ"
      }
    },
    {
      "cell_type": "code",
      "source": [
        "even_squares=[a*a for a in range(1,21) if a%2==0]\n",
        "print(even_squares)"
      ],
      "metadata": {
        "colab": {
          "base_uri": "https://localhost:8080/"
        },
        "id": "LnEwEzMfGTRq",
        "outputId": "12685e14-8067-412f-abda-4802aead9ae7"
      },
      "execution_count": 5,
      "outputs": [
        {
          "output_type": "stream",
          "name": "stdout",
          "text": [
            "[4, 16, 36, 64, 100, 144, 196, 256, 324, 400]\n"
          ]
        }
      ]
    },
    {
      "cell_type": "markdown",
      "source": [
        "Merge Lists: Write a function that merges two lists into a single list, alternating elements from each list. If one list is longer, append the remaining elements at the end."
      ],
      "metadata": {
        "id": "j6l7sJRsGvwx"
      }
    },
    {
      "cell_type": "code",
      "source": [
        "def merging(list1, list2):\n",
        "    merged = []\n",
        "    len1, len2 = len(list1), len(list2)\n",
        "    for i in range(max(len1, len2)):\n",
        "        if i < len1:\n",
        "            merged.append(list1[i])\n",
        "        if i < len2:\n",
        "            merged.append(list2[i])\n",
        "    return merged\n"
      ],
      "metadata": {
        "id": "PCxqs7xlGlVt"
      },
      "execution_count": 15,
      "outputs": []
    },
    {
      "cell_type": "code",
      "source": [
        "list1=[1,23]\n",
        "list2=[6,78,0]\n",
        "merging(list1,list2)"
      ],
      "metadata": {
        "colab": {
          "base_uri": "https://localhost:8080/"
        },
        "id": "NCwC6AMBINQG",
        "outputId": "08e8ebac-f13a-45a0-b949-fb90ad93ccde"
      },
      "execution_count": 16,
      "outputs": [
        {
          "output_type": "execute_result",
          "data": {
            "text/plain": [
              "[1, 6, 23, 78, 0]"
            ]
          },
          "metadata": {},
          "execution_count": 16
        }
      ]
    },
    {
      "cell_type": "markdown",
      "source": [
        "Remove Duplicates: Write a function that takes a list and returns a new list with duplicates removed while maintaining the original order."
      ],
      "metadata": {
        "id": "5gIVgTIgJx1h"
      }
    },
    {
      "cell_type": "markdown",
      "source": [],
      "metadata": {
        "id": "gVuX6EhWX4vT"
      }
    },
    {
      "cell_type": "code",
      "source": [
        "def dup(input_list):\n",
        "  seen=set()\n",
        "  final_list=[]\n",
        "  for i in input_list:\n",
        "    if i not in seen:\n",
        "      seen.add(i)\n",
        "      final_list.append(i)\n",
        "  return final_list\n"
      ],
      "metadata": {
        "id": "TF7WoO4pIQTp"
      },
      "execution_count": 17,
      "outputs": []
    },
    {
      "cell_type": "code",
      "source": [
        "list=[1,1,2,3,6,9,9]\n",
        "dup(list)"
      ],
      "metadata": {
        "colab": {
          "base_uri": "https://localhost:8080/"
        },
        "id": "zp6WcSXYYVRr",
        "outputId": "8582bb5d-f488-4319-bf44-e8f2c443774d"
      },
      "execution_count": 18,
      "outputs": [
        {
          "output_type": "execute_result",
          "data": {
            "text/plain": [
              "[1, 2, 3, 6, 9]"
            ]
          },
          "metadata": {},
          "execution_count": 18
        }
      ]
    },
    {
      "cell_type": "markdown",
      "source": [
        "Find Maximum: Write a function that returns the maximum value in a list without using the built-in max() function."
      ],
      "metadata": {
        "id": "_5eVreh6Yj75"
      }
    },
    {
      "cell_type": "code",
      "source": [
        "def maximnum(input_list):\n",
        "  input_list.sort()\n",
        "  final_list=input_list.pop()\n",
        "  return final_list"
      ],
      "metadata": {
        "id": "k4aqayHPYaAS"
      },
      "execution_count": 24,
      "outputs": []
    },
    {
      "cell_type": "code",
      "source": [
        "input_list=[1,7,10,5,9,2]\n",
        "maximnum(input_list)"
      ],
      "metadata": {
        "colab": {
          "base_uri": "https://localhost:8080/"
        },
        "id": "S38NsuVKY6r9",
        "outputId": "4470c41b-84eb-4389-8a30-8221e4699853"
      },
      "execution_count": 26,
      "outputs": [
        {
          "output_type": "execute_result",
          "data": {
            "text/plain": [
              "10"
            ]
          },
          "metadata": {},
          "execution_count": 26
        }
      ]
    },
    {
      "cell_type": "markdown",
      "source": [
        "Tuple Packing and Unpacking: Explain tuple packing and unpacking with an example. Write a function that takes three arguments and returns them as a tuple."
      ],
      "metadata": {
        "id": "rO9ntSDMZgnM"
      }
    },
    {
      "cell_type": "code",
      "source": [
        "def tup(a,b,c):\n",
        "  return(a,b,c)"
      ],
      "metadata": {
        "id": "Q64wWd4yZBVl"
      },
      "execution_count": 27,
      "outputs": []
    },
    {
      "cell_type": "code",
      "source": [
        "a=1\n",
        "b=10\n",
        "c=89\n",
        "tup(a,b,c)"
      ],
      "metadata": {
        "colab": {
          "base_uri": "https://localhost:8080/"
        },
        "id": "sJbgO4Umby3t",
        "outputId": "3cd41ec2-72e5-4d16-8d29-a59686d9d6b2"
      },
      "execution_count": 29,
      "outputs": [
        {
          "output_type": "execute_result",
          "data": {
            "text/plain": [
              "(1, 10, 89)"
            ]
          },
          "metadata": {},
          "execution_count": 29
        }
      ]
    },
    {
      "cell_type": "markdown",
      "source": [
        "Count Occurrences: Write a function that takes a tuple and an element, and returns the number of times the element appears in the tuple."
      ],
      "metadata": {
        "id": "C2_IjzU4b6Mb"
      }
    },
    {
      "cell_type": "code",
      "source": [
        "def tup_times(input_tuple,element):\n",
        "  return input_tuple.count(element)"
      ],
      "metadata": {
        "id": "HHUcXmAEbzvf"
      },
      "execution_count": 31,
      "outputs": []
    },
    {
      "cell_type": "code",
      "source": [
        "input_tuple=(1,3,4,4,5)\n",
        "element=4\n",
        "tup_times(input_tuple,element)"
      ],
      "metadata": {
        "colab": {
          "base_uri": "https://localhost:8080/"
        },
        "id": "YziSkTxGcA-y",
        "outputId": "5f944152-a078-47a6-8b07-c692d3127d73"
      },
      "execution_count": 34,
      "outputs": [
        {
          "output_type": "execute_result",
          "data": {
            "text/plain": [
              "2"
            ]
          },
          "metadata": {},
          "execution_count": 34
        }
      ]
    },
    {
      "cell_type": "markdown",
      "source": [
        "Convert List to Tuple: Write a function that converts a list into a tuple."
      ],
      "metadata": {
        "id": "JYbQxChncWcH"
      }
    },
    {
      "cell_type": "code",
      "source": [
        "def list_tupe(input_list):\n",
        "  return tuple(input_list)"
      ],
      "metadata": {
        "id": "iUkafsq6cQ4z"
      },
      "execution_count": 35,
      "outputs": []
    },
    {
      "cell_type": "code",
      "source": [
        "input_list=[1,2,3]\n",
        "list_tupe(input_list)"
      ],
      "metadata": {
        "colab": {
          "base_uri": "https://localhost:8080/"
        },
        "id": "YMQqjFzrdkGw",
        "outputId": "88e6007e-497d-45db-c8a4-29eab747b472"
      },
      "execution_count": 36,
      "outputs": [
        {
          "output_type": "execute_result",
          "data": {
            "text/plain": [
              "(1, 2, 3)"
            ]
          },
          "metadata": {},
          "execution_count": 36
        }
      ]
    },
    {
      "cell_type": "markdown",
      "source": [
        "Tuple Concatenation: Write a function that concatenates two tuples and returns the result"
      ],
      "metadata": {
        "id": "2Uy_SgF5dslz"
      }
    },
    {
      "cell_type": "code",
      "source": [
        "def concat_tuple(a,b):\n",
        "  return a+b"
      ],
      "metadata": {
        "id": "Pt4PylUWdpbl"
      },
      "execution_count": 39,
      "outputs": []
    },
    {
      "cell_type": "code",
      "source": [
        "a=(1,2,3)\n",
        "b=(7,8,9)\n",
        "concat_tuple(a,b)\n"
      ],
      "metadata": {
        "colab": {
          "base_uri": "https://localhost:8080/"
        },
        "id": "nW1PJNgAfgMH",
        "outputId": "f82ac83a-5549-41bd-fbe4-7aba97165aca"
      },
      "execution_count": 40,
      "outputs": [
        {
          "output_type": "execute_result",
          "data": {
            "text/plain": [
              "(1, 2, 3, 7, 8, 9)"
            ]
          },
          "metadata": {},
          "execution_count": 40
        }
      ]
    },
    {
      "cell_type": "markdown",
      "source": [
        "Find Index: Write a function that finds the index of a given element in a tuple. If the element is not found, return -1."
      ],
      "metadata": {
        "id": "XKyZses6f4Zo"
      }
    },
    {
      "cell_type": "code",
      "source": [
        "def find_index(tup, element):\n",
        "    try:\n",
        "        return tup.index(element)\n",
        "    except ValueError:\n",
        "        return -1\n"
      ],
      "metadata": {
        "id": "nwNdKjYrfk_b"
      },
      "execution_count": 41,
      "outputs": []
    },
    {
      "cell_type": "code",
      "source": [
        "tup=(1,5,6,7)\n",
        "element=1\n",
        "find_index(tup,element)"
      ],
      "metadata": {
        "colab": {
          "base_uri": "https://localhost:8080/"
        },
        "id": "-CbG4ZDphtqQ",
        "outputId": "8494b918-6090-4b06-dd53-1b95a7741e7e"
      },
      "execution_count": 44,
      "outputs": [
        {
          "output_type": "execute_result",
          "data": {
            "text/plain": [
              "0"
            ]
          },
          "metadata": {},
          "execution_count": 44
        }
      ]
    },
    {
      "cell_type": "markdown",
      "source": [
        "Palindrome Check: Write a function that checks if a given string is a palindrome (reads the same forwards and backwards)."
      ],
      "metadata": {
        "id": "NUx0NNgCh7fg"
      }
    },
    {
      "cell_type": "code",
      "source": [
        "def palindrome(input_string):\n",
        "  reveres=input_string[::-1]\n",
        "  if reveres==input_string:\n",
        "    print(\"palindrome\")\n",
        "  else:\n",
        "    print(\"not a palindrome\")\n"
      ],
      "metadata": {
        "id": "SwLmiEYQhylL"
      },
      "execution_count": 45,
      "outputs": []
    },
    {
      "cell_type": "code",
      "source": [
        "input_string=\"nun\"\n",
        "palindrome(input_string)"
      ],
      "metadata": {
        "colab": {
          "base_uri": "https://localhost:8080/"
        },
        "id": "eEud7_cyitx8",
        "outputId": "56a8513c-79d6-44c1-ebc6-010528d4d6ae"
      },
      "execution_count": 48,
      "outputs": [
        {
          "output_type": "stream",
          "name": "stdout",
          "text": [
            "palindrome\n"
          ]
        }
      ]
    },
    {
      "cell_type": "markdown",
      "source": [
        "Count Vowels: Write a function that counts the number of vowels in a given string."
      ],
      "metadata": {
        "id": "eYKnqr8OjB34"
      }
    },
    {
      "cell_type": "code",
      "source": [
        "def vowel_count(input_string):\n",
        "  count=0\n",
        "  vowel=['a','e','i','o','u']\n",
        "  for i in input_string:\n",
        "    if i in vowel:\n",
        "      count+=1\n",
        "  return count\n"
      ],
      "metadata": {
        "id": "QRFp35o5i1wG"
      },
      "execution_count": 49,
      "outputs": []
    },
    {
      "cell_type": "code",
      "source": [
        "input_string=\"vridhi\"\n",
        "vowel_count(input_string)"
      ],
      "metadata": {
        "colab": {
          "base_uri": "https://localhost:8080/"
        },
        "id": "P63qVc1SjoJI",
        "outputId": "00f6a413-e8f8-49ed-8edf-78e0cc49853a"
      },
      "execution_count": 50,
      "outputs": [
        {
          "output_type": "execute_result",
          "data": {
            "text/plain": [
              "2"
            ]
          },
          "metadata": {},
          "execution_count": 50
        }
      ]
    },
    {
      "cell_type": "markdown",
      "source": [
        "String Reversal: Write a function that reverses a string without using the built-in reverse functions."
      ],
      "metadata": {
        "id": "Xd0S93dCjybw"
      }
    },
    {
      "cell_type": "code",
      "source": [
        "def reversal(input_string):\n",
        "  reversal=input_string[::-1]\n",
        "  return reversal"
      ],
      "metadata": {
        "id": "KeGPBXqAjuQK"
      },
      "execution_count": 51,
      "outputs": []
    },
    {
      "cell_type": "code",
      "source": [
        "input_string=\"vridhi\"\n",
        "reversal(input_string)"
      ],
      "metadata": {
        "colab": {
          "base_uri": "https://localhost:8080/",
          "height": 35
        },
        "id": "jzGbNncxkHrV",
        "outputId": "523b6732-a6c6-4c24-a3d9-a870589dcfd2"
      },
      "execution_count": 52,
      "outputs": [
        {
          "output_type": "execute_result",
          "data": {
            "text/plain": [
              "'ihdirv'"
            ],
            "application/vnd.google.colaboratory.intrinsic+json": {
              "type": "string"
            }
          },
          "metadata": {},
          "execution_count": 52
        }
      ]
    },
    {
      "cell_type": "markdown",
      "source": [
        "Substring Count: Write a function that counts how many times a substring appears in a given string"
      ],
      "metadata": {
        "id": "9Sv3aBMHkOn9"
      }
    },
    {
      "cell_type": "code",
      "source": [
        "def count_substring(string, substring):\n",
        "    return string.count(substring)"
      ],
      "metadata": {
        "id": "7ZSFIDHdkLe0"
      },
      "execution_count": 53,
      "outputs": []
    },
    {
      "cell_type": "code",
      "source": [
        "string=\"vridhi\"\n",
        "substring=\"dhi\"\n",
        "count_substring(string,substring)"
      ],
      "metadata": {
        "colab": {
          "base_uri": "https://localhost:8080/"
        },
        "id": "62rWXNZdkzgu",
        "outputId": "bdb9195c-e5c8-4222-bf71-165b507eb5d3"
      },
      "execution_count": 55,
      "outputs": [
        {
          "output_type": "execute_result",
          "data": {
            "text/plain": [
              "1"
            ]
          },
          "metadata": {},
          "execution_count": 55
        }
      ]
    },
    {
      "cell_type": "markdown",
      "source": [
        "Set Union and Intersection: Write a function that takes two sets and returns their union and intersection as two separate sets."
      ],
      "metadata": {
        "id": "ubTmZtuZlD6y"
      }
    },
    {
      "cell_type": "code",
      "source": [
        "def sep_sets(seta,setb):\n",
        "  return seta.intersection(setb)"
      ],
      "metadata": {
        "id": "MKnAjNdlk-MD"
      },
      "execution_count": 56,
      "outputs": []
    },
    {
      "cell_type": "code",
      "source": [
        "seta={a,b,2,2}\n",
        "setb={1,2,3}\n",
        "sep_sets(seta,setb)"
      ],
      "metadata": {
        "colab": {
          "base_uri": "https://localhost:8080/"
        },
        "id": "A4FAYGS2lXcf",
        "outputId": "e586782d-36d0-495d-b3a4-ac4f352629b3"
      },
      "execution_count": 57,
      "outputs": [
        {
          "output_type": "execute_result",
          "data": {
            "text/plain": [
              "{2}"
            ]
          },
          "metadata": {},
          "execution_count": 57
        }
      ]
    },
    {
      "cell_type": "code",
      "source": [
        "def union_sets(seta,setb):\n",
        "  return seta.union(setb)"
      ],
      "metadata": {
        "id": "9ciGrm8FldY6"
      },
      "execution_count": 58,
      "outputs": []
    },
    {
      "cell_type": "code",
      "source": [
        "seta={\"hist\",\"maths\"}\n",
        "setb={1,2,3}\n",
        "union_sets(seta,setb)"
      ],
      "metadata": {
        "colab": {
          "base_uri": "https://localhost:8080/"
        },
        "id": "B74pRXHOljy-",
        "outputId": "c258ff56-0fc3-4cc5-8ccc-de923153d025"
      },
      "execution_count": 60,
      "outputs": [
        {
          "output_type": "execute_result",
          "data": {
            "text/plain": [
              "{1, 2, 3, 'hist', 'maths'}"
            ]
          },
          "metadata": {},
          "execution_count": 60
        }
      ]
    },
    {
      "cell_type": "markdown",
      "source": [
        "**bold text**Check Subset: Write a function that checks if one set is a subset of another. For example, given sets A = {1, 2, 3} and B = {1,\n",
        " 2, 3, 4, 5}, the function should return True."
      ],
      "metadata": {
        "id": "K69-rr7_l9Sn"
      }
    },
    {
      "cell_type": "code",
      "source": [
        "def subset_check(seta, setb):\n",
        "    return seta.issubset(setb)\n"
      ],
      "metadata": {
        "id": "nnK7pqM3l88y"
      },
      "execution_count": 63,
      "outputs": []
    },
    {
      "cell_type": "code",
      "source": [
        "seta={1,2,3}\n",
        "setb={1,2,3,4,5}\n",
        "subset_check(seta,setb)"
      ],
      "metadata": {
        "colab": {
          "base_uri": "https://localhost:8080/"
        },
        "id": "w9dI7UislnA9",
        "outputId": "f3ce6847-38a7-4059-c160-d9646d06f633"
      },
      "execution_count": 65,
      "outputs": [
        {
          "output_type": "execute_result",
          "data": {
            "text/plain": [
              "True"
            ]
          },
          "metadata": {},
          "execution_count": 65
        }
      ]
    },
    {
      "cell_type": "markdown",
      "source": [
        "Set Difference: Write a function that takes two sets and returns a new set containing elements that are in the first set but not in the second."
      ],
      "metadata": {
        "id": "NcwA4iuUpuJo"
      }
    },
    {
      "cell_type": "code",
      "source": [
        "def input_string(seta,setb):\n",
        "  return seta.difference(setb)"
      ],
      "metadata": {
        "id": "ljEPPRPlpliL"
      },
      "execution_count": 72,
      "outputs": []
    },
    {
      "cell_type": "code",
      "source": [
        "seta={1,2,3}\n",
        "setb={1,2,3,4,5}\n",
        "input_string(seta,setb)"
      ],
      "metadata": {
        "colab": {
          "base_uri": "https://localhost:8080/"
        },
        "id": "8mwkRY4up3U2",
        "outputId": "dbed6f55-6381-4a7c-c7a8-b4a2540521bf"
      },
      "execution_count": 73,
      "outputs": [
        {
          "output_type": "execute_result",
          "data": {
            "text/plain": [
              "set()"
            ]
          },
          "metadata": {},
          "execution_count": 73
        }
      ]
    },
    {
      "cell_type": "code",
      "source": [],
      "metadata": {
        "id": "iiMdf_t2p79k"
      },
      "execution_count": null,
      "outputs": []
    }
  ]
}